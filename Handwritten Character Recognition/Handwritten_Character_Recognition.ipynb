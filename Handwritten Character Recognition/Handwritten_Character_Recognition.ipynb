{
  "metadata": {
    "kernelspec": {
      "language": "python",
      "display_name": "Python 3",
      "name": "python3"
    },
    "language_info": {
      "name": "python",
      "version": "3.7.9",
      "mimetype": "text/x-python",
      "codemirror_mode": {
        "name": "ipython",
        "version": 3
      },
      "pygments_lexer": "ipython3",
      "nbconvert_exporter": "python",
      "file_extension": ".py"
    },
    "kaggle": {
      "accelerator": "gpu",
      "dataSources": [
        {
          "sourceId": 1400106,
          "sourceType": "datasetVersion",
          "datasetId": 818027
        }
      ],
      "dockerImageVersionId": 30068,
      "isInternetEnabled": true,
      "language": "python",
      "sourceType": "notebook",
      "isGpuEnabled": true
    },
    "colab": {
      "provenance": []
    }
  },
  "nbformat_minor": 0,
  "nbformat": 4,
  "cells": [
    {
      "cell_type": "markdown",
      "source": [
        "# **HANDWRITTEN CHARACTER RECOGNITION ✍️**\n"
      ],
      "metadata": {
        "id": "U7xuFXEqp1X0"
      }
    },
    {
      "cell_type": "markdown",
      "source": [
        "\n",
        "![1_AO2rIhzRYzFVQlFLx9DM9A.png](data:image/png;base64,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)"
      ],
      "metadata": {
        "id": "AprGnG5Pq9gV"
      }
    },
    {
      "cell_type": "markdown",
      "source": [
        "## About the dataset\n"
      ],
      "metadata": {
        "id": "ZsDumsJJsCp9"
      }
    },
    {
      "cell_type": "markdown",
      "source": [
        "\n",
        "This dataset consists of more than four hundred thousand handwritten names collected through charity projects.\n",
        "\n",
        "Character Recognition utilizes image processing technologies to convert characters on scanned documents into digital forms. It typically performs well in machine-printed fonts. However, it still poses difficult challenges for machines to recognize handwritten characters, because of the huge variation in individual writing styles.\n",
        "\n",
        "There are 206,799 first names and 207,024 surnames in total. The data was divided into a training set (331,059), testing set (41,382), and validation set (41,382) respectively."
      ],
      "metadata": {
        "id": "g4h2cFYIsFa0"
      }
    },
    {
      "cell_type": "markdown",
      "source": [
        "## Data Exploration"
      ],
      "metadata": {
        "id": "ncvFGa1krWXP"
      }
    },
    {
      "cell_type": "code",
      "source": [
        "import pandas as pd\n",
        "import numpy as np\n",
        "import keras\n",
        "import keras.layers as L\n",
        "import keras.models as M\n",
        "import tensorflow as tf\n",
        "from PIL import Image\n",
        "import os\n",
        "import matplotlib.pyplot as plt\n",
        "import cv2\n",
        "from keras.utils import Sequence"
      ],
      "metadata": {
        "_uuid": "8f2839f25d086af736a60e9eeb907d3b93b6e0e5",
        "_cell_guid": "b1076dfc-b9ad-4769-8c92-a6c4dae69d19",
        "execution": {
          "iopub.status.busy": "2023-12-26T09:30:34.904187Z",
          "iopub.execute_input": "2023-12-26T09:30:34.904556Z",
          "iopub.status.idle": "2023-12-26T09:30:34.909934Z",
          "shell.execute_reply.started": "2023-12-26T09:30:34.904521Z",
          "shell.execute_reply": "2023-12-26T09:30:34.909095Z"
        },
        "trusted": true,
        "id": "XTY035z6oqq6"
      },
      "execution_count": null,
      "outputs": []
    },
    {
      "cell_type": "code",
      "source": [
        "train=pd.read_csv('../input/handwriting-recognition/written_name_train_v2.csv')\n",
        "validation=pd.read_csv('../input/handwriting-recognition/written_name_validation_v2.csv')"
      ],
      "metadata": {
        "execution": {
          "iopub.status.busy": "2023-12-26T09:30:34.911554Z",
          "iopub.execute_input": "2023-12-26T09:30:34.911841Z",
          "iopub.status.idle": "2023-12-26T09:30:35.252753Z",
          "shell.execute_reply.started": "2023-12-26T09:30:34.911816Z",
          "shell.execute_reply": "2023-12-26T09:30:35.251980Z"
        },
        "trusted": true,
        "id": "99id8PULoqq_"
      },
      "execution_count": null,
      "outputs": []
    },
    {
      "cell_type": "code",
      "source": [
        "train.dropna(inplace=True)"
      ],
      "metadata": {
        "execution": {
          "iopub.status.busy": "2023-12-26T09:30:35.254809Z",
          "iopub.execute_input": "2023-12-26T09:30:35.255131Z",
          "iopub.status.idle": "2023-12-26T09:30:35.343581Z",
          "shell.execute_reply.started": "2023-12-26T09:30:35.255102Z",
          "shell.execute_reply": "2023-12-26T09:30:35.342858Z"
        },
        "trusted": true,
        "id": "TE9_vpGpoqrA"
      },
      "execution_count": null,
      "outputs": []
    },
    {
      "cell_type": "code",
      "source": [
        "train.head()"
      ],
      "metadata": {
        "execution": {
          "iopub.status.busy": "2023-12-26T09:30:35.345974Z",
          "iopub.execute_input": "2023-12-26T09:30:35.346354Z",
          "iopub.status.idle": "2023-12-26T09:30:35.356030Z",
          "shell.execute_reply.started": "2023-12-26T09:30:35.346314Z",
          "shell.execute_reply": "2023-12-26T09:30:35.355249Z"
        },
        "trusted": true,
        "id": "LnOGtvHBoqrA",
        "outputId": "8d881f65-22ca-4869-ef0d-05d79ebf1a9c"
      },
      "execution_count": null,
      "outputs": [
        {
          "execution_count": 20,
          "output_type": "execute_result",
          "data": {
            "text/plain": "          FILENAME   IDENTITY\n0  TRAIN_00001.jpg  BALTHAZAR\n1  TRAIN_00002.jpg      SIMON\n2  TRAIN_00003.jpg      BENES\n3  TRAIN_00004.jpg    LA LOVE\n4  TRAIN_00005.jpg     DAPHNE",
            "text/html": "<div>\n<style scoped>\n    .dataframe tbody tr th:only-of-type {\n        vertical-align: middle;\n    }\n\n    .dataframe tbody tr th {\n        vertical-align: top;\n    }\n\n    .dataframe thead th {\n        text-align: right;\n    }\n</style>\n<table border=\"1\" class=\"dataframe\">\n  <thead>\n    <tr style=\"text-align: right;\">\n      <th></th>\n      <th>FILENAME</th>\n      <th>IDENTITY</th>\n    </tr>\n  </thead>\n  <tbody>\n    <tr>\n      <th>0</th>\n      <td>TRAIN_00001.jpg</td>\n      <td>BALTHAZAR</td>\n    </tr>\n    <tr>\n      <th>1</th>\n      <td>TRAIN_00002.jpg</td>\n      <td>SIMON</td>\n    </tr>\n    <tr>\n      <th>2</th>\n      <td>TRAIN_00003.jpg</td>\n      <td>BENES</td>\n    </tr>\n    <tr>\n      <th>3</th>\n      <td>TRAIN_00004.jpg</td>\n      <td>LA LOVE</td>\n    </tr>\n    <tr>\n      <th>4</th>\n      <td>TRAIN_00005.jpg</td>\n      <td>DAPHNE</td>\n    </tr>\n  </tbody>\n</table>\n</div>"
          },
          "metadata": {}
        }
      ]
    },
    {
      "cell_type": "markdown",
      "source": [
        "## Data Pre-Processing"
      ],
      "metadata": {
        "id": "Amah9QgzreJG"
      }
    },
    {
      "cell_type": "code",
      "source": [
        "train=train.sample(frac=0.8,random_state=42)\n",
        "validation=validation.sample(frac=0.1)"
      ],
      "metadata": {
        "execution": {
          "iopub.status.busy": "2023-12-26T09:30:35.949830Z",
          "iopub.execute_input": "2023-12-26T09:30:35.950220Z",
          "iopub.status.idle": "2023-12-26T09:30:36.000991Z",
          "shell.execute_reply.started": "2023-12-26T09:30:35.950181Z",
          "shell.execute_reply": "2023-12-26T09:30:36.000268Z"
        },
        "trusted": true,
        "id": "6Qnsmxs9oqrE"
      },
      "execution_count": null,
      "outputs": []
    },
    {
      "cell_type": "code",
      "source": [
        "characters=set()\n",
        "train['IDENTITY']=train['IDENTITY'].apply(lambda x: str(x))\n",
        "for i in train['IDENTITY'].values:\n",
        "    for j in i :\n",
        "        if j not in characters :\n",
        "            characters.add(j)\n",
        "characters=sorted(characters)"
      ],
      "metadata": {
        "execution": {
          "iopub.status.busy": "2023-12-26T09:30:36.002334Z",
          "iopub.execute_input": "2023-12-26T09:30:36.002751Z",
          "iopub.status.idle": "2023-12-26T09:30:36.414571Z",
          "shell.execute_reply.started": "2023-12-26T09:30:36.002707Z",
          "shell.execute_reply": "2023-12-26T09:30:36.413845Z"
        },
        "trusted": true,
        "id": "oAU38FcCoqrE"
      },
      "execution_count": null,
      "outputs": []
    },
    {
      "cell_type": "code",
      "source": [
        "# 2 Dictionaries  :   Turn all ur characters to num and vice versa\n",
        "char_to_label = {char:label for label,char in enumerate(characters)}\n",
        "label_to_char = {label:char for label,char in enumerate(characters)}"
      ],
      "metadata": {
        "execution": {
          "iopub.status.busy": "2023-12-26T09:30:36.415748Z",
          "iopub.execute_input": "2023-12-26T09:30:36.416145Z",
          "iopub.status.idle": "2023-12-26T09:30:36.420055Z",
          "shell.execute_reply.started": "2023-12-26T09:30:36.416102Z",
          "shell.execute_reply": "2023-12-26T09:30:36.419301Z"
        },
        "trusted": true,
        "id": "-i9BR1qGoqrF"
      },
      "execution_count": null,
      "outputs": []
    },
    {
      "cell_type": "code",
      "source": [
        "path_train='../input/handwriting-recognition/train_v2/train'\n",
        "path_validation='../input/handwriting-recognition/validation_v2/validation'"
      ],
      "metadata": {
        "execution": {
          "iopub.status.busy": "2023-12-26T09:30:36.421367Z",
          "iopub.execute_input": "2023-12-26T09:30:36.421648Z",
          "iopub.status.idle": "2023-12-26T09:30:36.430632Z",
          "shell.execute_reply.started": "2023-12-26T09:30:36.421619Z",
          "shell.execute_reply": "2023-12-26T09:30:36.429807Z"
        },
        "trusted": true,
        "id": "GW9jc8GkoqrF"
      },
      "execution_count": null,
      "outputs": []
    },
    {
      "cell_type": "code",
      "source": [
        "# Data Generator\n",
        "class DataGenerator(Sequence):\n",
        "    def __init__(self,dataframe,path,char_map,batch_size=128,img_size=(256,64),\n",
        "                 downsample_factor=4,max_length=22,shuffle=True):\n",
        "        self.dataframe=dataframe\n",
        "        self.path=path\n",
        "        self.char_map=char_map\n",
        "        self.batch_size=batch_size\n",
        "        self.width=img_size[0]\n",
        "        self.height=img_size[1]\n",
        "        self.downsample_factor=downsample_factor\n",
        "        self.max_length=max_length\n",
        "        self.shuffle=shuffle\n",
        "        self.indices = np.arange(len(dataframe))\n",
        "        self.on_epoch_end()\n",
        "\n",
        "    def __len__(self):\n",
        "        return len(self.dataframe)//self.batch_size\n",
        "\n",
        "    def __getitem__(self,idx):\n",
        "        curr_batch_idx=self.indices[idx*self.batch_size:(idx+1)*self.batch_size]\n",
        "        batch_images=np.ones((self.batch_size,self.width,self.height,1),dtype=np.float32)\n",
        "        batch_labels=np.ones((self.batch_size,self.max_length),dtype=np.float32)\n",
        "        input_length=np.ones((self.batch_size,1),dtype=np.float32)*(self.width//self.downsample_factor-2)\n",
        "        label_length=np.zeros((self.batch_size,1),dtype=np.int64)\n",
        "        for i,idx in enumerate(curr_batch_idx):\n",
        "            img_path=self.dataframe['FILENAME'].values[idx]\n",
        "            img=cv2.imread(self.path+'/'+img_path)\n",
        "            img=cv2.cvtColor(img, cv2.COLOR_BGR2GRAY)\n",
        "            img=cv2.resize(img,(self.width,self.height))\n",
        "            img=(img/255).astype(np.float32)\n",
        "            img=img.T\n",
        "            img=np.expand_dims(img,axis=-1)\n",
        "            text=self.dataframe['IDENTITY'].values[idx]\n",
        "            text=str(text)\n",
        "            label=[]\n",
        "            for j in text:\n",
        "                if j in self.char_map :\n",
        "                    label.append(self.char_map[j])\n",
        "                else:\n",
        "                    label.append(100)\n",
        "            label.extend([100]*(22-len(label)))\n",
        "            batch_images[i]=img\n",
        "            batch_labels[i]=label\n",
        "            label_length[i]=len(label)\n",
        "        batch_inputs= {\n",
        "                'input_data':batch_images,\n",
        "                'input_label':batch_labels,\n",
        "                'input_length':input_length,\n",
        "                'label_length':label_length\n",
        "\n",
        "            }\n",
        "        return batch_inputs,np.zeros((self.batch_size),dtype=np.float32)\n",
        "    def on_epoch_end(self):\n",
        "        if self.shuffle == True :\n",
        "            np.random.shuffle(self.indices)\n",
        ""
      ],
      "metadata": {
        "execution": {
          "iopub.status.busy": "2023-12-26T09:30:36.431943Z",
          "iopub.execute_input": "2023-12-26T09:30:36.432209Z",
          "iopub.status.idle": "2023-12-26T09:30:36.451212Z",
          "shell.execute_reply.started": "2023-12-26T09:30:36.432183Z",
          "shell.execute_reply": "2023-12-26T09:30:36.450347Z"
        },
        "trusted": true,
        "id": "brgxMUlPoqrG"
      },
      "execution_count": null,
      "outputs": []
    },
    {
      "cell_type": "code",
      "source": [
        "train_generator=DataGenerator(train,path_train,char_to_label)\n",
        "validation_generator=DataGenerator(validation,path_validation,char_to_label)"
      ],
      "metadata": {
        "execution": {
          "iopub.status.busy": "2023-12-26T09:30:36.454132Z",
          "iopub.execute_input": "2023-12-26T09:30:36.454423Z",
          "iopub.status.idle": "2023-12-26T09:30:36.470334Z",
          "shell.execute_reply.started": "2023-12-26T09:30:36.454397Z",
          "shell.execute_reply": "2023-12-26T09:30:36.469557Z"
        },
        "trusted": true,
        "id": "KQ4UnR4-oqrH"
      },
      "execution_count": null,
      "outputs": []
    },
    {
      "cell_type": "code",
      "source": [
        "# Making CTC Function\n",
        "class CTCLayer(L.Layer):\n",
        "    def __init__(self, name=None):\n",
        "        super().__init__(name=name)\n",
        "        self.loss_fn = keras.backend.ctc_batch_cost\n",
        "\n",
        "    def call(self, y_true, y_pred, input_length, label_length):\n",
        "        # Compute the training-time loss value and add it\n",
        "        # to the layer using `self.add_loss()`.\n",
        "        loss = self.loss_fn(y_true, y_pred, input_length, label_length)\n",
        "        self.add_loss(loss)\n",
        "\n",
        "        # On test time, just return the computed loss\n",
        "        return loss"
      ],
      "metadata": {
        "execution": {
          "iopub.status.busy": "2023-12-26T09:30:36.471733Z",
          "iopub.execute_input": "2023-12-26T09:30:36.472061Z",
          "iopub.status.idle": "2023-12-26T09:30:36.479746Z",
          "shell.execute_reply.started": "2023-12-26T09:30:36.472025Z",
          "shell.execute_reply": "2023-12-26T09:30:36.478973Z"
        },
        "trusted": true,
        "id": "SYiJmbOyoqrI"
      },
      "execution_count": null,
      "outputs": []
    },
    {
      "cell_type": "markdown",
      "source": [
        "## Model Creation"
      ],
      "metadata": {
        "id": "AVmI1K_zrk31"
      }
    },
    {
      "cell_type": "code",
      "source": [
        "# Making the Model now\n",
        "def make_model():\n",
        "    inp=L.Input(shape=(256,64,1),dtype=np.float32,name='input_data')\n",
        "    labels=L.Input(shape=[22],dtype=np.float32,name='input_label')\n",
        "    input_length=L.Input(shape=[1],dtype=np.int64,name='input_length')\n",
        "    label_length=L.Input(shape=[1],dtype=np.int64,name='label_length')\n",
        "    x=L.Conv2D(64,(3,3),activation='relu',padding='same',kernel_initializer='he_normal')(inp)\n",
        "    x=L.MaxPooling2D(pool_size=(2,2))(x)\n",
        "    x=L.Dropout(0.3)(x)\n",
        "    x=L.Conv2D(128,(3,3),activation='relu',padding='same',kernel_initializer='he_normal')(x)\n",
        "    x=L.MaxPooling2D(pool_size=(2,2))(x)\n",
        "    x=L.Dropout(0.3)(x)\n",
        "    new_shape=((256//4),(64//4)*128)\n",
        "    x=L.Reshape(new_shape)(x)\n",
        "    x=L.Dense(64,activation='relu')(x)\n",
        "    x=L.Dropout(0.2)(x)\n",
        "    x=L.Bidirectional(L.LSTM(128,return_sequences=True,dropout=0.2))(x)\n",
        "    x=L.Bidirectional(L.LSTM(64,return_sequences=True,dropout=0.25))(x)\n",
        "    x=L.Dense(len(characters)+1,activation='softmax',kernel_initializer='he_normal',name='Dense_output')(x)\n",
        "    output=CTCLayer(name='outputs')(labels,x,input_length,label_length)\n",
        "    model=M.Model([inp,labels,input_length,label_length],output)\n",
        "    # Optimizer\n",
        "    sgd = keras.optimizers.SGD(learning_rate=0.002,\n",
        "                               decay=1e-6,\n",
        "                               momentum=0.9,\n",
        "                               nesterov=True,\n",
        "                               clipnorm=5)\n",
        "    model.compile(optimizer=sgd)\n",
        "    return model"
      ],
      "metadata": {
        "execution": {
          "iopub.status.busy": "2023-12-26T09:30:36.480834Z",
          "iopub.execute_input": "2023-12-26T09:30:36.481146Z",
          "iopub.status.idle": "2023-12-26T09:30:36.494940Z",
          "shell.execute_reply.started": "2023-12-26T09:30:36.481117Z",
          "shell.execute_reply": "2023-12-26T09:30:36.494224Z"
        },
        "trusted": true,
        "id": "ds0f3rswoqrI"
      },
      "execution_count": null,
      "outputs": []
    },
    {
      "cell_type": "code",
      "source": [
        "model=make_model()\n",
        "model.summary()"
      ],
      "metadata": {
        "execution": {
          "iopub.status.busy": "2023-12-26T09:30:36.495850Z",
          "iopub.execute_input": "2023-12-26T09:30:36.496125Z",
          "iopub.status.idle": "2023-12-26T09:30:37.825139Z",
          "shell.execute_reply.started": "2023-12-26T09:30:36.496100Z",
          "shell.execute_reply": "2023-12-26T09:30:37.824100Z"
        },
        "trusted": true,
        "id": "1P4VnJcyoqrJ",
        "outputId": "f3975252-099e-41c7-b0e4-35c0b351266f"
      },
      "execution_count": null,
      "outputs": [
        {
          "name": "stdout",
          "text": "Model: \"model_1\"\n__________________________________________________________________________________________________\nLayer (type)                    Output Shape         Param #     Connected to                     \n==================================================================================================\ninput_data (InputLayer)         [(None, 256, 64, 1)] 0                                            \n__________________________________________________________________________________________________\nconv2d_2 (Conv2D)               (None, 256, 64, 64)  640         input_data[0][0]                 \n__________________________________________________________________________________________________\nmax_pooling2d_2 (MaxPooling2D)  (None, 128, 32, 64)  0           conv2d_2[0][0]                   \n__________________________________________________________________________________________________\ndropout_3 (Dropout)             (None, 128, 32, 64)  0           max_pooling2d_2[0][0]            \n__________________________________________________________________________________________________\nconv2d_3 (Conv2D)               (None, 128, 32, 128) 73856       dropout_3[0][0]                  \n__________________________________________________________________________________________________\nmax_pooling2d_3 (MaxPooling2D)  (None, 64, 16, 128)  0           conv2d_3[0][0]                   \n__________________________________________________________________________________________________\ndropout_4 (Dropout)             (None, 64, 16, 128)  0           max_pooling2d_3[0][0]            \n__________________________________________________________________________________________________\nreshape_1 (Reshape)             (None, 64, 2048)     0           dropout_4[0][0]                  \n__________________________________________________________________________________________________\ndense_1 (Dense)                 (None, 64, 64)       131136      reshape_1[0][0]                  \n__________________________________________________________________________________________________\ndropout_5 (Dropout)             (None, 64, 64)       0           dense_1[0][0]                    \n__________________________________________________________________________________________________\nbidirectional_2 (Bidirectional) (None, 64, 256)      197632      dropout_5[0][0]                  \n__________________________________________________________________________________________________\nbidirectional_3 (Bidirectional) (None, 64, 128)      164352      bidirectional_2[0][0]            \n__________________________________________________________________________________________________\ninput_label (InputLayer)        [(None, 22)]         0                                            \n__________________________________________________________________________________________________\nDense_output (Dense)            (None, 64, 31)       3999        bidirectional_3[0][0]            \n__________________________________________________________________________________________________\ninput_length (InputLayer)       [(None, 1)]          0                                            \n__________________________________________________________________________________________________\nlabel_length (InputLayer)       [(None, 1)]          0                                            \n__________________________________________________________________________________________________\noutputs (CTCLayer)              (None, 1)            0           input_label[0][0]                \n                                                                 Dense_output[0][0]               \n                                                                 input_length[0][0]               \n                                                                 label_length[0][0]               \n==================================================================================================\nTotal params: 571,615\nTrainable params: 571,615\nNon-trainable params: 0\n__________________________________________________________________________________________________\n",
          "output_type": "stream"
        }
      ]
    },
    {
      "cell_type": "markdown",
      "source": [
        "## Model Training"
      ],
      "metadata": {
        "id": "ltm5LWtnrplv"
      }
    },
    {
      "cell_type": "code",
      "source": [
        "# Add early stopping\n",
        "es = keras.callbacks.EarlyStopping(monitor='val_loss',\n",
        "                                   patience=5,\n",
        "                                   restore_best_weights=True)\n",
        "\n",
        "# Train the model\n",
        "if 'prediction_model_ocr.h5' not in os.listdir('./'):\n",
        "    history = model.fit(train_generator,steps_per_epoch=500,validation_data=validation_generator,\n",
        "                        epochs=5)\n"
      ],
      "metadata": {
        "execution": {
          "iopub.status.busy": "2023-12-26T09:30:37.826414Z",
          "iopub.execute_input": "2023-12-26T09:30:37.826694Z",
          "iopub.status.idle": "2023-12-26T10:05:56.850994Z",
          "shell.execute_reply.started": "2023-12-26T09:30:37.826666Z",
          "shell.execute_reply": "2023-12-26T10:05:56.850264Z"
        },
        "trusted": true,
        "id": "iOKWu8UboqrK",
        "outputId": "2940ede3-94a4-4fdd-acf7-025747f9f895"
      },
      "execution_count": null,
      "outputs": [
        {
          "name": "stdout",
          "text": "Epoch 1/5\n500/500 [==============================] - 615s 1s/step - loss: 30.2417 - val_loss: 19.4685\nEpoch 2/5\n500/500 [==============================] - 462s 925ms/step - loss: 19.7093 - val_loss: 18.5802\nEpoch 3/5\n500/500 [==============================] - 417s 834ms/step - loss: 18.7426 - val_loss: 17.8037\nEpoch 4/5\n500/500 [==============================] - 334s 667ms/step - loss: 17.8023 - val_loss: 16.5437\nEpoch 5/5\n500/500 [==============================] - 289s 578ms/step - loss: 16.6071 - val_loss: 14.7340\n",
          "output_type": "stream"
        }
      ]
    },
    {
      "cell_type": "code",
      "source": [
        "prediction_model = keras.models.Model(model.get_layer(name='input_data').input,\n",
        "                                        model.get_layer(name='Dense_output').output)\n",
        "prediction_model.summary()"
      ],
      "metadata": {
        "execution": {
          "iopub.status.busy": "2023-12-26T10:05:56.852703Z",
          "iopub.execute_input": "2023-12-26T10:05:56.853054Z",
          "iopub.status.idle": "2023-12-26T10:05:56.866333Z",
          "shell.execute_reply.started": "2023-12-26T10:05:56.853023Z",
          "shell.execute_reply": "2023-12-26T10:05:56.865545Z"
        },
        "trusted": true,
        "id": "RDiS2ggQoqrK",
        "outputId": "2e8c76cf-befb-403f-f169-12b3298f2201"
      },
      "execution_count": null,
      "outputs": [
        {
          "name": "stdout",
          "text": "Model: \"model_2\"\n_________________________________________________________________\nLayer (type)                 Output Shape              Param #   \n=================================================================\ninput_data (InputLayer)      [(None, 256, 64, 1)]      0         \n_________________________________________________________________\nconv2d_2 (Conv2D)            (None, 256, 64, 64)       640       \n_________________________________________________________________\nmax_pooling2d_2 (MaxPooling2 (None, 128, 32, 64)       0         \n_________________________________________________________________\ndropout_3 (Dropout)          (None, 128, 32, 64)       0         \n_________________________________________________________________\nconv2d_3 (Conv2D)            (None, 128, 32, 128)      73856     \n_________________________________________________________________\nmax_pooling2d_3 (MaxPooling2 (None, 64, 16, 128)       0         \n_________________________________________________________________\ndropout_4 (Dropout)          (None, 64, 16, 128)       0         \n_________________________________________________________________\nreshape_1 (Reshape)          (None, 64, 2048)          0         \n_________________________________________________________________\ndense_1 (Dense)              (None, 64, 64)            131136    \n_________________________________________________________________\ndropout_5 (Dropout)          (None, 64, 64)            0         \n_________________________________________________________________\nbidirectional_2 (Bidirection (None, 64, 256)           197632    \n_________________________________________________________________\nbidirectional_3 (Bidirection (None, 64, 128)           164352    \n_________________________________________________________________\nDense_output (Dense)         (None, 64, 31)            3999      \n=================================================================\nTotal params: 571,615\nTrainable params: 571,615\nNon-trainable params: 0\n_________________________________________________________________\n",
          "output_type": "stream"
        }
      ]
    },
    {
      "cell_type": "code",
      "source": [
        "if 'prediction_model_ocr.h5' not in os.listdir('./'):\n",
        "    prediction_model.save('prediction_model_ocr.h5')\n",
        "    prediction_model=M.load_model('prediction_model_ocr.h5')"
      ],
      "metadata": {
        "execution": {
          "iopub.status.busy": "2023-12-26T10:05:56.867536Z",
          "iopub.execute_input": "2023-12-26T10:05:56.867804Z",
          "iopub.status.idle": "2023-12-26T10:05:57.865256Z",
          "shell.execute_reply.started": "2023-12-26T10:05:56.867766Z",
          "shell.execute_reply": "2023-12-26T10:05:57.864415Z"
        },
        "trusted": true,
        "id": "j-FXb8bvoqrL"
      },
      "execution_count": null,
      "outputs": []
    },
    {
      "cell_type": "code",
      "source": [
        "label_to_char[100]=''"
      ],
      "metadata": {
        "execution": {
          "iopub.status.busy": "2023-12-26T10:05:57.866427Z",
          "iopub.execute_input": "2023-12-26T10:05:57.866715Z",
          "iopub.status.idle": "2023-12-26T10:05:57.870441Z",
          "shell.execute_reply.started": "2023-12-26T10:05:57.866686Z",
          "shell.execute_reply": "2023-12-26T10:05:57.869527Z"
        },
        "trusted": true,
        "id": "0LpKRKceoqrM"
      },
      "execution_count": null,
      "outputs": []
    },
    {
      "cell_type": "code",
      "source": [
        "# A utility to decode the output of the network\n",
        "def decode_batch_predictions(pred):\n",
        "    pred = pred[:, :-2]\n",
        "    input_len = np.ones(pred.shape[0])*pred.shape[1]\n",
        "\n",
        "    # Use greedy search. For complex tasks, you can use beam search\n",
        "    results = keras.backend.ctc_decode(pred,\n",
        "                                        input_length=input_len,\n",
        "                                        greedy=True)[0][0]\n",
        "\n",
        "    # Iterate over the results and get back the text\n",
        "    output_text = []\n",
        "    for res in results.numpy():\n",
        "        outstr = ''\n",
        "        for c in res:\n",
        "            if c < len(characters) and c >=0:\n",
        "                outstr += label_to_char[c]\n",
        "        output_text.append(outstr)\n",
        "\n",
        "    # return final text results\n",
        "    return output_text"
      ],
      "metadata": {
        "execution": {
          "iopub.status.busy": "2023-12-26T10:05:57.871833Z",
          "iopub.execute_input": "2023-12-26T10:05:57.872282Z",
          "iopub.status.idle": "2023-12-26T10:05:57.880628Z",
          "shell.execute_reply.started": "2023-12-26T10:05:57.872234Z",
          "shell.execute_reply": "2023-12-26T10:05:57.879847Z"
        },
        "trusted": true,
        "id": "kheZ9piMoqrM"
      },
      "execution_count": null,
      "outputs": []
    },
    {
      "cell_type": "markdown",
      "source": [
        "## Model Evaluation"
      ],
      "metadata": {
        "id": "EnlKxvPDruzv"
      }
    },
    {
      "cell_type": "code",
      "source": [
        "for p, (inp_value, _) in enumerate(validation_generator):\n",
        "    bs = inp_value['input_data'].shape[0]\n",
        "    X_data = inp_value['input_data']\n",
        "    labels = inp_value['input_label']\n",
        "    plt.imshow(X_data[0])\n",
        "    preds = prediction_model.predict(X_data)\n",
        "    pred_texts = decode_batch_predictions(preds)\n",
        "\n",
        "\n",
        "    orig_texts = []\n",
        "    for label in labels:\n",
        "        text = ''.join([label_to_char[int(x)] for x in label])\n",
        "        orig_texts.append(text)\n",
        "\n",
        "    for i in range(bs):\n",
        "        print(f'Ground truth: {orig_texts[i]} \\t Predicted: {pred_texts[i]}')\n",
        "    break"
      ],
      "metadata": {
        "execution": {
          "iopub.status.busy": "2023-12-26T10:05:57.881596Z",
          "iopub.execute_input": "2023-12-26T10:05:57.881964Z",
          "iopub.status.idle": "2023-12-26T10:05:59.585866Z",
          "shell.execute_reply.started": "2023-12-26T10:05:57.881921Z",
          "shell.execute_reply": "2023-12-26T10:05:59.585125Z"
        },
        "trusted": true,
        "id": "2MAPbzttoqrM",
        "outputId": "8b6a0b6d-1c00-4a36-9fff-b13ae8312323"
      },
      "execution_count": null,
      "outputs": [
        {
          "name": "stdout",
          "text": "Ground truth: GUITTET \t Predicted: LEET\nGround truth: EMMA \t Predicted: ANA\nGround truth: MERCK \t Predicted: MEES\nGround truth: STEVEN \t Predicted: LILER\nGround truth: JOLYNE \t Predicted: SOUNE\nGround truth: MARION \t Predicted: MANIAN\nGround truth: MARCEL \t Predicted: MANES\nGround truth: MATEO \t Predicted: MANES\nGround truth: AGATHE \t Predicted: REE\nGround truth: TEKIW \t Predicted: TEA\nGround truth: MARGAUX \t Predicted: MANINE\nGround truth: PALLUAU \t Predicted: CEAN\nGround truth: LEBRAT \t Predicted: LELANE\nGround truth: MAGNON \t Predicted: MANOAN\nGround truth: MAMMADI \t Predicted: MANE\nGround truth: CARRUESCO \t Predicted: COUET\nGround truth: YASSEAUR \t Predicted: PAUAN\nGround truth: AUDREY \t Predicted: BAUES\nGround truth: PAULINE \t Predicted: TARNE\nGround truth: GUICHARD \t Predicted: LEAAD\nGround truth: LOGAN \t Predicted: LOUAN\nGround truth: DAIJIRO \t Predicted: BUET\nGround truth: SARAH \t Predicted: CARA\nGround truth: PEYO \t Predicted: ELE\nGround truth: STEPHAN \t Predicted: LILAAN\nGround truth: TIFFANY \t Predicted: EANT\nGround truth: BEVERLY \t Predicted: ELET\nGround truth: ELISE \t Predicted: LELE\nGround truth: THOMAS \t Predicted: TARAET\nGround truth: CADIX \t Predicted: LOUIS\nGround truth: NATHAN \t Predicted: MATAN\nGround truth: MAELYS \t Predicted: ALE\nGround truth: BOULET \t Predicted: BOUE\nGround truth: FLORIAN \t Predicted: LAN\nGround truth: AURELIA \t Predicted: MANLET\nGround truth: KYLIAN \t Predicted: MALAN\nGround truth: BAPTISTE \t Predicted: BORE\nGround truth: AKDEMIR \t Predicted: MARART\nGround truth: GOUEL \t Predicted: LOUE\nGround truth: LOUIS \t Predicted: LAES\nGround truth: TRISTAN \t Predicted: ALIAN\nGround truth: GIMBERT \t Predicted: SOUAT\nGround truth: MATHILDE \t Predicted: MATNE\nGround truth: PICOT \t Predicted: TILES\nGround truth: HEINRICH \t Predicted: MEAER\nGround truth: MATHILDE \t Predicted: MATNE\nGround truth: MAIGNANT \t Predicted: MARANE\nGround truth: LAURINE \t Predicted: COUNE\nGround truth: ORANE \t Predicted: CARE\nGround truth: VICTOR \t Predicted: ILAT\nGround truth: YOHAN \t Predicted: TATA\nGround truth: EMPTY \t Predicted: LELAN\nGround truth: MARIETTE \t Predicted: ARE\nGround truth: LACANETTE \t Predicted: LEAEE\nGround truth: ILHAM \t Predicted: LELAN\nGround truth: GOMIS--MROCZYK \t Predicted: BOUN\nGround truth: GAC \t Predicted: OE\nGround truth: VAROQUI \t Predicted: BARET\nGround truth: SALMA \t Predicted: CAA\nGround truth: MASSILA \t Predicted: TAEET\nGround truth: ENZO \t Predicted: AES\nGround truth: TRAORE \t Predicted: CARNE\nGround truth: DJIBRIL \t Predicted: OLE\nGround truth: MAES \t Predicted: MAES\nGround truth: CHLOE \t Predicted: LAE\nGround truth: LEMONNIER \t Predicted: CEER\nGround truth: MALVISI \t Predicted: MALE\nGround truth: ROULLET \t Predicted: BOULET\nGround truth: BREHAUT \t Predicted: BARAET\nGround truth: FLOUAN \t Predicted: LELAA\nGround truth: JULIEN \t Predicted: LOUEN\nGround truth: LIBREAU \t Predicted: LAT\nGround truth: ALICE \t Predicted: ELE\nGround truth: VICTOR \t Predicted: ELAN\nGround truth: SAIFEDDINE \t Predicted: ELNNE\nGround truth: SARA \t Predicted: ANA\nGround truth: SIMON \t Predicted: LOA\nGround truth: ZROMBEZ GOURVENN \t Predicted: COUAAN\nGround truth: QUENETTE \t Predicted: BOEE\nGround truth: LE MENES \t Predicted: LELET\nGround truth: RIOU \t Predicted: TIO\nGround truth: FORTIN \t Predicted: CAUIAT\nGround truth:  \t Predicted: LEAET\nGround truth: MOISON \t Predicted: MOUAN\nGround truth: SINTUREL \t Predicted: LOE\nGround truth: MALKI \t Predicted: MANA\nGround truth: MAXIME \t Predicted: MARNE\nGround truth: LUNA \t Predicted: LOA\nGround truth: MARIE \t Predicted: MANE\nGround truth: HUGO \t Predicted: MANES\nGround truth: FOUCHE \t Predicted: CONE\nGround truth: LEA \t Predicted: LEA\nGround truth: ESTELLE \t Predicted: SOLE\nGround truth: ELYNE \t Predicted: LELANE\nGround truth: BARNABE \t Predicted: BARAE\nGround truth: CLARA \t Predicted: LELAAN\nGround truth: REMI \t Predicted: LEA\nGround truth: FONSECA \t Predicted: COET\nGround truth: DOUBLIEZ \t Predicted: BOUUE\nGround truth: CLARA \t Predicted: LELAA\nGround truth: MAUD \t Predicted: MARA\nGround truth: GIOVACCHINI \t Predicted: BOSANT\nGround truth: BEN BALLA \t Predicted: BEAER\nGround truth: LAPLAUD \t Predicted: DEAD\nGround truth: TOM \t Predicted: EA\nGround truth: MANON \t Predicted: MAA\nGround truth: EDUARD \t Predicted: CAAA\nGround truth: MELANIE \t Predicted: MELAE\nGround truth: FREZET \t Predicted: CEET\nGround truth: AKUESON-ROUXEL \t Predicted: BEAAE\nGround truth: LOVE \t Predicted: LOUE\nGround truth: CHARLES \t Predicted: CARES\nGround truth: PEZOT \t Predicted: COE\nGround truth: MONTIGNY \t Predicted: BARNT\nGround truth: RIVET \t Predicted: MALES\nGround truth: BREYHAN \t Predicted: ALAAN\nGround truth: FLAVIO \t Predicted: LIIT\nGround truth: VANSTON \t Predicted: BARAN\nGround truth: MANDY \t Predicted: MANA\nGround truth: ENZO \t Predicted: ENES\nGround truth: THEO \t Predicted: AE\nGround truth: LEBRUN \t Predicted: LEOAN\nGround truth: SAIDA \t Predicted: TARA\nGround truth: ROMAIN \t Predicted: CARET\nGround truth: DUVAL \t Predicted: LOUNE\nGround truth: MATHILOE \t Predicted: ARNE\nGround truth: LEBONNOIS \t Predicted: LEOAET\nGround truth: BOCQUET \t Predicted: BOUOUET\n",
          "output_type": "stream"
        },
        {
          "output_type": "display_data",
          "data": {
            "text/plain": "<Figure size 432x288 with 1 Axes>",
            "image/png": "[encoded data removed]"
          },
          "metadata": {
            "needs_background": "light"
          }
        }
      ]
    },
    {
      "cell_type": "markdown",
      "source": [
        "## Model Testing"
      ],
      "metadata": {
        "id": "AbDjyQk2ry3O"
      }
    },
    {
      "cell_type": "code",
      "source": [
        "batch_images=np.ones((128,256,64,1),dtype=np.float32)\n",
        "img=cv2.imread('../input/handwriting-recognition/test_v2/test/TEST_0004.jpg')\n",
        "img=cv2.cvtColor(img, cv2.COLOR_BGR2GRAY)\n",
        "img=cv2.resize(img,(256,64))\n",
        "img=(img/255).astype(np.float32)\n",
        "img=img.T\n",
        "img=np.expand_dims(img,axis=-1)\n",
        "batch_images[0]=img\n",
        "x=prediction_model.predict(batch_images)\n",
        "pred_texts = decode_batch_predictions(x)\n",
        "pred_texts = pred_texts[0]\n",
        "im=cv2.imread('../input/handwriting-recognition/test_v2/test/TEST_0004.jpg')\n",
        "plt.imshow(im)\n",
        "print('Predicted Text:',pred_texts)"
      ],
      "metadata": {
        "execution": {
          "iopub.status.busy": "2023-12-26T10:05:59.587297Z",
          "iopub.execute_input": "2023-12-26T10:05:59.587678Z",
          "iopub.status.idle": "2023-12-26T10:05:59.815465Z",
          "shell.execute_reply.started": "2023-12-26T10:05:59.587637Z",
          "shell.execute_reply": "2023-12-26T10:05:59.814695Z"
        },
        "trusted": true,
        "id": "KBqIquKdoqrN",
        "outputId": "b21192ed-19bf-4b32-e354-994bfcadb84a"
      },
      "execution_count": null,
      "outputs": [
        {
          "name": "stdout",
          "text": "Predicted Text: LOLES\n",
          "output_type": "stream"
        },
        {
          "output_type": "display_data",
          "data": {
            "text/plain": "<Figure size 432x288 with 1 Axes>",
            "image/png": "[encoded data removed]"
          },
          "metadata": {
            "needs_background": "light"
          }
        }
      ]
    }
  ]
}